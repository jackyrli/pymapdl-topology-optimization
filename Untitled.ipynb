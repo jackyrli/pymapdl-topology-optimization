{
 "cells": [
  {
   "cell_type": "code",
   "execution_count": 1,
   "id": "be648ec1",
   "metadata": {},
   "outputs": [],
   "source": [
    "import matplotlib.pyplot as plt\n",
    "import numpy as np\n",
    "\n",
    "from ansys.mapdl.core import launch_mapdl\n",
    "exec_loc = 'C:/Program Files/ANSYS Inc/ANSYS Student/v222/ANSYS/bin/winx64/ANSYS222.exe'\n",
    "mapdl = launch_mapdl(exec_loc)"
   ]
  },
  {
   "cell_type": "code",
   "execution_count": 2,
   "id": "3dbb29d8",
   "metadata": {},
   "outputs": [
    {
     "name": "stdout",
     "output_type": "stream",
     "text": [
      "LIST MATERIALS        1 TO        1 BY        1\n",
      "  PROPERTY= ALL \n",
      "\n",
      " MATERIAL NUMBER        1\n",
      "\n",
      "      TEMP        EX  \n",
      "               0.2100000E+12\n",
      "\n",
      "      TEMP        NUXY\n",
      "               0.3000000    \n",
      "\n",
      "      TEMP        DENS\n",
      "                7800.000\n"
     ]
    }
   ],
   "source": [
    "###############################################################################\n",
    "# Element Type and Material Properties\n",
    "# ~~~~~~~~~~~~~~~~~~~~~~~~~~~~~~~~~~~~\n",
    "# This example will use PLANE183 elements as a thin plate can be\n",
    "# modeled with plane elements provided that KEYOPTION 3 is set to 3\n",
    "# and a thickness is provided.\n",
    "#\n",
    "# This example will use SI units.\n",
    "\n",
    "mapdl.prep7()\n",
    "mapdl.units(\"SI\")  # SI - International system (m, kg, s, K).\n",
    "\n",
    "# define a PLANE183 element type with thickness\n",
    "mapdl.et(1, \"PLANE183\", kop3=3)\n",
    "mapdl.r(1, 0.001)  # thickness of 0.001 meters)\n",
    "\n",
    "# Define a material (nominal steel in SI)\n",
    "mapdl.mp(\"EX\", 1, 210e9)  # Elastic moduli in Pa (kg/(m*s**2))\n",
    "mapdl.mp(\"DENS\", 1, 7800)  # Density in kg/m3\n",
    "mapdl.mp(\"NUXY\", 1, 0.3)  # Poisson's Ratio\n",
    "\n",
    "# list currently defined material properties\n",
    "print(mapdl.mplist())"
   ]
  },
  {
   "cell_type": "code",
   "execution_count": 21,
   "id": "5ba54be9",
   "metadata": {},
   "outputs": [
    {
     "data": {
      "image/png": "[encoded data removed]",
      "text/plain": [
       "<PIL.Image.Image image mode=RGB size=1024x768 at 0x1ED599DD648>"
      ]
     },
     "metadata": {},
     "output_type": "display_data"
    },
    {
     "data": {
      "text/plain": [
       "[(2.0, 2.0, 10.92820323027551),\n",
       " (2.0, 2.0, 0.0),\n",
       " (0.0, 1.0, 0.0)]"
      ]
     },
     "execution_count": 21,
     "metadata": {},
     "output_type": "execute_result"
    }
   ],
   "source": [
    "#attempt to implement geometry.\n",
    "mapdl.clear()\n",
    "mapdl.prep7()\n",
    "rect = mapdl.blc4(width=4,height=4)\n",
    "\n",
    "\n",
    "k0 = mapdl.k(\"\", 1.5, 2)\n",
    "k1 = mapdl.k(\"\", 2, 2.5)\n",
    "k2 = mapdl.k(\"\", 2.5, 2)\n",
    "k3 = mapdl.k(\"\", 2, 1.5)\n",
    "\n",
    "lnum1 = mapdl.bsplin(k0, k1,k2)\n",
    "lnum2 = mapdl.bsplin(k1, k2)\n",
    "mapdl.lplot(background=\"w\", color=\"k\", line_width=5, cpos=\"xy\")"
   ]
  },
  {
   "cell_type": "code",
   "execution_count": 29,
   "id": "1d1d30cf",
   "metadata": {},
   "outputs": [
    {
     "name": "stdout",
     "output_type": "stream",
     "text": [
      "PolyData (0x1ed60613e88)\n",
      "  N Cells:\t19602\n",
      "  N Points:\t10000\n",
      "  X Bounds:\t-9.994e+00, 9.999e+00\n",
      "  Y Bounds:\t-4.999e+00, 4.999e+00\n",
      "  Z Bounds:\t-1.000e+00, 1.000e+00\n",
      "  N Arrays:\t1\n",
      "\n"
     ]
    },
    {
     "ename": "ValueError",
     "evalue": "Use ``run_multiline`` for multi-line commands",
     "output_type": "error",
     "traceback": [
      "\u001b[1;31m---------------------------------------------------------------------------\u001b[0m",
      "\u001b[1;31mValueError\u001b[0m                                Traceback (most recent call last)",
      "\u001b[1;32m~\\AppData\\Local\\Temp\\ipykernel_7424\\3786937890.py\u001b[0m in \u001b[0;36m<module>\u001b[1;34m\u001b[0m\n\u001b[0;32m      2\u001b[0m \u001b[0mellipsoid\u001b[0m \u001b[1;33m=\u001b[0m \u001b[0mpv\u001b[0m\u001b[1;33m.\u001b[0m\u001b[0mParametricEllipsoid\u001b[0m\u001b[1;33m(\u001b[0m\u001b[1;36m10\u001b[0m\u001b[1;33m,\u001b[0m \u001b[1;36m5\u001b[0m\u001b[1;33m)\u001b[0m\u001b[1;33m\u001b[0m\u001b[1;33m\u001b[0m\u001b[0m\n\u001b[0;32m      3\u001b[0m \u001b[0mprint\u001b[0m\u001b[1;33m(\u001b[0m\u001b[0mellipsoid\u001b[0m\u001b[1;33m)\u001b[0m\u001b[1;33m\u001b[0m\u001b[1;33m\u001b[0m\u001b[0m\n\u001b[1;32m----> 4\u001b[1;33m \u001b[0mmapdl\u001b[0m\u001b[1;33m.\u001b[0m\u001b[0masba\u001b[0m\u001b[1;33m(\u001b[0m\u001b[0mellipsoid\u001b[0m\u001b[1;33m)\u001b[0m\u001b[1;33m\u001b[0m\u001b[1;33m\u001b[0m\u001b[0m\n\u001b[0m",
      "\u001b[1;32m~\\.conda\\envs\\LTL\\lib\\site-packages\\ansys\\mapdl\\core\\_commands\\preproc\\booleans.py\u001b[0m in \u001b[0;36masba\u001b[1;34m(self, na1, na2, sepo, keep1, keep2, **kwargs)\u001b[0m\n\u001b[0;32m    367\u001b[0m         \"\"\"\n\u001b[0;32m    368\u001b[0m         \u001b[0mcommand\u001b[0m \u001b[1;33m=\u001b[0m \u001b[1;34mf\"ASBA,{na1},{na2},{sepo},{keep1},{keep2}\"\u001b[0m\u001b[1;33m\u001b[0m\u001b[1;33m\u001b[0m\u001b[0m\n\u001b[1;32m--> 369\u001b[1;33m         \u001b[1;32mreturn\u001b[0m \u001b[0mparse\u001b[0m\u001b[1;33m.\u001b[0m\u001b[0mparse_output_volume_area\u001b[0m\u001b[1;33m(\u001b[0m\u001b[0mself\u001b[0m\u001b[1;33m.\u001b[0m\u001b[0mrun\u001b[0m\u001b[1;33m(\u001b[0m\u001b[0mcommand\u001b[0m\u001b[1;33m,\u001b[0m \u001b[1;33m**\u001b[0m\u001b[0mkwargs\u001b[0m\u001b[1;33m)\u001b[0m\u001b[1;33m)\u001b[0m\u001b[1;33m\u001b[0m\u001b[1;33m\u001b[0m\u001b[0m\n\u001b[0m\u001b[0;32m    370\u001b[0m \u001b[1;33m\u001b[0m\u001b[0m\n\u001b[0;32m    371\u001b[0m     \u001b[1;32mdef\u001b[0m \u001b[0masbl\u001b[0m\u001b[1;33m(\u001b[0m\u001b[0mself\u001b[0m\u001b[1;33m,\u001b[0m \u001b[0mna\u001b[0m\u001b[1;33m=\u001b[0m\u001b[1;34m\"\"\u001b[0m\u001b[1;33m,\u001b[0m \u001b[0mnl\u001b[0m\u001b[1;33m=\u001b[0m\u001b[1;34m\"\"\u001b[0m\u001b[1;33m,\u001b[0m \u001b[0mkeepa\u001b[0m\u001b[1;33m=\u001b[0m\u001b[1;34m\"\"\u001b[0m\u001b[1;33m,\u001b[0m \u001b[0mkeepl\u001b[0m\u001b[1;33m=\u001b[0m\u001b[1;34m\"\"\u001b[0m\u001b[1;33m,\u001b[0m \u001b[1;33m**\u001b[0m\u001b[0mkwargs\u001b[0m\u001b[1;33m)\u001b[0m\u001b[1;33m:\u001b[0m\u001b[1;33m\u001b[0m\u001b[1;33m\u001b[0m\u001b[0m\n",
      "\u001b[1;32m~\\.conda\\envs\\LTL\\lib\\site-packages\\ansys\\mapdl\\core\\mapdl.py\u001b[0m in \u001b[0;36mrun\u001b[1;34m(self, command, write_to_log, **kwargs)\u001b[0m\n\u001b[0;32m   2043\u001b[0m         \u001b[1;31m# check if multiline\u001b[0m\u001b[1;33m\u001b[0m\u001b[1;33m\u001b[0m\u001b[1;33m\u001b[0m\u001b[0m\n\u001b[0;32m   2044\u001b[0m         \u001b[1;32mif\u001b[0m \u001b[1;34m\"\\n\"\u001b[0m \u001b[1;32min\u001b[0m \u001b[0mcommand\u001b[0m \u001b[1;32mor\u001b[0m \u001b[1;34m\"\\r\"\u001b[0m \u001b[1;32min\u001b[0m \u001b[0mcommand\u001b[0m\u001b[1;33m:\u001b[0m\u001b[1;33m\u001b[0m\u001b[1;33m\u001b[0m\u001b[0m\n\u001b[1;32m-> 2045\u001b[1;33m             \u001b[1;32mraise\u001b[0m \u001b[0mValueError\u001b[0m\u001b[1;33m(\u001b[0m\u001b[1;34m\"Use ``run_multiline`` for multi-line commands\"\u001b[0m\u001b[1;33m)\u001b[0m\u001b[1;33m\u001b[0m\u001b[1;33m\u001b[0m\u001b[0m\n\u001b[0m\u001b[0;32m   2046\u001b[0m \u001b[1;33m\u001b[0m\u001b[0m\n\u001b[0;32m   2047\u001b[0m         \u001b[1;31m# always reset the cache\u001b[0m\u001b[1;33m\u001b[0m\u001b[1;33m\u001b[0m\u001b[1;33m\u001b[0m\u001b[0m\n",
      "\u001b[1;31mValueError\u001b[0m: Use ``run_multiline`` for multi-line commands"
     ]
    }
   ],
   "source": [
    "import pyvista as pv\n",
    "ellipsoid = pv.ParametricEllipsoid(10, 5)\n",
    "print(ellipsoid)\n",
    "mapdl.asba(ellipsoid)"
   ]
  },
  {
   "cell_type": "code",
   "execution_count": 30,
   "id": "b9948bd6",
   "metadata": {},
   "outputs": [
    {
     "data": {
      "text/plain": [
       "'You have already entered the general preprocessor (PREP7).'"
      ]
     },
     "execution_count": 30,
     "metadata": {},
     "output_type": "execute_result"
    }
   ],
   "source": [
    "mapdl.run('/PREP7')"
   ]
  },
  {
   "cell_type": "code",
   "execution_count": 20,
   "id": "4b469db6",
   "metadata": {},
   "outputs": [
    {
     "name": "stderr",
     "output_type": "stream",
     "text": [
      "ERROR - GRPC_127.0.0.1:50052 -  mapdl - run - *** ERROR ***                           CP =       2.234   TIME= 13:52:54\n",
      " Coincident center and axis points., defaults={\"instance_name\": None}\n"
     ]
    },
    {
     "ename": "MapdlRuntimeError",
     "evalue": "*** ERROR ***                           CP =       2.234   TIME= 13:52:54\n Coincident center and axis points.",
     "output_type": "error",
     "traceback": [
      "\u001b[1;31m---------------------------------------------------------------------------\u001b[0m",
      "\u001b[1;31mMapdlRuntimeError\u001b[0m                         Traceback (most recent call last)",
      "\u001b[1;32m~\\AppData\\Local\\Temp\\ipykernel_7424\\48033411.py\u001b[0m in \u001b[0;36m<module>\u001b[1;34m\u001b[0m\n\u001b[0;32m      5\u001b[0m \u001b[0mk1\u001b[0m \u001b[1;33m=\u001b[0m \u001b[0mmapdl\u001b[0m\u001b[1;33m.\u001b[0m\u001b[0mk\u001b[0m\u001b[1;33m(\u001b[0m\u001b[1;34m\"\"\u001b[0m\u001b[1;33m,\u001b[0m \u001b[1;36m0\u001b[0m\u001b[1;33m,\u001b[0m \u001b[1;36m0\u001b[0m\u001b[1;33m)\u001b[0m\u001b[1;33m\u001b[0m\u001b[1;33m\u001b[0m\u001b[0m\n\u001b[0;32m      6\u001b[0m \u001b[0mk2\u001b[0m \u001b[1;33m=\u001b[0m \u001b[0mmapdl\u001b[0m\u001b[1;33m.\u001b[0m\u001b[0mk\u001b[0m\u001b[1;33m(\u001b[0m\u001b[1;34m\"\"\u001b[0m\u001b[1;33m,\u001b[0m \u001b[1;36m1\u001b[0m\u001b[1;33m,\u001b[0m \u001b[1;36m1.5\u001b[0m\u001b[1;33m)\u001b[0m\u001b[1;33m\u001b[0m\u001b[1;33m\u001b[0m\u001b[0m\n\u001b[1;32m----> 7\u001b[1;33m \u001b[0mcarc\u001b[0m \u001b[1;33m=\u001b[0m \u001b[0mmapdl\u001b[0m\u001b[1;33m.\u001b[0m\u001b[0mcircle\u001b[0m\u001b[1;33m(\u001b[0m\u001b[0mk0\u001b[0m\u001b[1;33m,\u001b[0m \u001b[1;36m1\u001b[0m\u001b[1;33m,\u001b[0m \u001b[0mk1\u001b[0m\u001b[1;33m,\u001b[0m \u001b[0marc\u001b[0m\u001b[1;33m=\u001b[0m\u001b[1;36m90\u001b[0m\u001b[1;33m)\u001b[0m\u001b[1;33m\u001b[0m\u001b[1;33m\u001b[0m\u001b[0m\n\u001b[0m\u001b[0;32m      8\u001b[0m \u001b[0mlnum\u001b[0m \u001b[1;33m=\u001b[0m \u001b[0mmapdl\u001b[0m\u001b[1;33m.\u001b[0m\u001b[0mltan\u001b[0m\u001b[1;33m(\u001b[0m\u001b[0mcarc\u001b[0m\u001b[1;33m[\u001b[0m\u001b[1;36m0\u001b[0m\u001b[1;33m]\u001b[0m\u001b[1;33m,\u001b[0m \u001b[0mk2\u001b[0m\u001b[1;33m)\u001b[0m\u001b[1;33m\u001b[0m\u001b[1;33m\u001b[0m\u001b[0m\n\u001b[0;32m      9\u001b[0m \u001b[0mmapdl\u001b[0m\u001b[1;33m.\u001b[0m\u001b[0mlplot\u001b[0m\u001b[1;33m(\u001b[0m\u001b[0mbackground\u001b[0m\u001b[1;33m=\u001b[0m\u001b[1;34m\"w\"\u001b[0m\u001b[1;33m,\u001b[0m \u001b[0mcolor\u001b[0m\u001b[1;33m=\u001b[0m\u001b[1;34m\"k\"\u001b[0m\u001b[1;33m,\u001b[0m \u001b[0mline_width\u001b[0m\u001b[1;33m=\u001b[0m\u001b[1;36m5\u001b[0m\u001b[1;33m,\u001b[0m \u001b[0mcpos\u001b[0m\u001b[1;33m=\u001b[0m\u001b[1;34m\"xy\"\u001b[0m\u001b[1;33m)\u001b[0m\u001b[1;33m\u001b[0m\u001b[1;33m\u001b[0m\u001b[0m\n",
      "\u001b[1;32m~\\.conda\\envs\\LTL\\lib\\site-packages\\ansys\\mapdl\\core\\_commands\\preproc\\lines.py\u001b[0m in \u001b[0;36mcircle\u001b[1;34m(self, pcent, rad, paxis, pzero, arc, nseg, **kwargs)\u001b[0m\n\u001b[0;32m    138\u001b[0m         \"\"\"\n\u001b[0;32m    139\u001b[0m         \u001b[0mcommand\u001b[0m \u001b[1;33m=\u001b[0m \u001b[1;34mf\"CIRCLE,{pcent},{rad},{paxis},{pzero},{arc},{nseg}\"\u001b[0m\u001b[1;33m\u001b[0m\u001b[1;33m\u001b[0m\u001b[0m\n\u001b[1;32m--> 140\u001b[1;33m         \u001b[1;32mreturn\u001b[0m \u001b[0mparse\u001b[0m\u001b[1;33m.\u001b[0m\u001b[0mparse_line_nos\u001b[0m\u001b[1;33m(\u001b[0m\u001b[0mself\u001b[0m\u001b[1;33m.\u001b[0m\u001b[0mrun\u001b[0m\u001b[1;33m(\u001b[0m\u001b[0mcommand\u001b[0m\u001b[1;33m,\u001b[0m \u001b[1;33m**\u001b[0m\u001b[0mkwargs\u001b[0m\u001b[1;33m)\u001b[0m\u001b[1;33m)\u001b[0m\u001b[1;33m\u001b[0m\u001b[1;33m\u001b[0m\u001b[0m\n\u001b[0m\u001b[0;32m    141\u001b[0m \u001b[1;33m\u001b[0m\u001b[0m\n\u001b[0;32m    142\u001b[0m     def l(\n",
      "\u001b[1;32m~\\.conda\\envs\\LTL\\lib\\site-packages\\ansys\\mapdl\\core\\mapdl.py\u001b[0m in \u001b[0;36mrun\u001b[1;34m(self, command, write_to_log, **kwargs)\u001b[0m\n\u001b[0;32m   2112\u001b[0m             \u001b[1;32mif\u001b[0m \u001b[1;34m\"*** ERROR ***\"\u001b[0m \u001b[1;32min\u001b[0m \u001b[0mresponse\u001b[0m\u001b[1;33m:\u001b[0m\u001b[1;33m\u001b[0m\u001b[1;33m\u001b[0m\u001b[0m\n\u001b[0;32m   2113\u001b[0m                 \u001b[0mself\u001b[0m\u001b[1;33m.\u001b[0m\u001b[0m_log\u001b[0m\u001b[1;33m.\u001b[0m\u001b[0merror\u001b[0m\u001b[1;33m(\u001b[0m\u001b[0mself\u001b[0m\u001b[1;33m.\u001b[0m\u001b[0m_response\u001b[0m\u001b[1;33m)\u001b[0m\u001b[1;33m\u001b[0m\u001b[1;33m\u001b[0m\u001b[0m\n\u001b[1;32m-> 2114\u001b[1;33m                 \u001b[1;32mraise\u001b[0m \u001b[0mMapdlRuntimeError\u001b[0m\u001b[1;33m(\u001b[0m\u001b[0mself\u001b[0m\u001b[1;33m.\u001b[0m\u001b[0m_response\u001b[0m\u001b[1;33m)\u001b[0m\u001b[1;33m\u001b[0m\u001b[1;33m\u001b[0m\u001b[0m\n\u001b[0m\u001b[0;32m   2115\u001b[0m             \u001b[1;32melse\u001b[0m\u001b[1;33m:\u001b[0m\u001b[1;33m\u001b[0m\u001b[1;33m\u001b[0m\u001b[0m\n\u001b[0;32m   2116\u001b[0m                 warnings.warn(\n",
      "\u001b[1;31mMapdlRuntimeError\u001b[0m: *** ERROR ***                           CP =       2.234   TIME= 13:52:54\n Coincident center and axis points."
     ]
    }
   ],
   "source": [
    "mapdl.clear()\n",
    "mapdl.prep7()\n",
    "rect = mapdl.blc4(width=4,height=4)\n",
    "k0 = mapdl.k(\"\", 0, 0)\n",
    "k1 = mapdl.k(\"\", 0, 0)\n",
    "k2 = mapdl.k(\"\", 1, 1.5)\n",
    "carc = mapdl.circle(k0, 1, k1, arc=90)\n",
    "lnum = mapdl.ltan(carc[0], k2)\n",
    "mapdl.lplot(background=\"w\", color=\"k\", line_width=5, cpos=\"xy\")\n"
   ]
  },
  {
   "cell_type": "code",
   "execution_count": null,
   "id": "409fc966",
   "metadata": {},
   "outputs": [],
   "source": [
    "mapdl.exit()"
   ]
  }
 ],
 "metadata": {
  "kernelspec": {
   "display_name": "Python 3 (ipykernel)",
   "language": "python",
   "name": "python3"
  },
  "language_info": {
   "codemirror_mode": {
    "name": "ipython",
    "version": 3
   },
   "file_extension": ".py",
   "mimetype": "text/x-python",
   "name": "python",
   "nbconvert_exporter": "python",
   "pygments_lexer": "ipython3",
   "version": "3.7.11"
  }
 },
 "nbformat": 4,
 "nbformat_minor": 5
}
